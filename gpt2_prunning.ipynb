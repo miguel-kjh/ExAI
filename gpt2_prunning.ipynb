{
 "cells": [
  {
   "cell_type": "code",
   "execution_count": 4,
   "metadata": {},
   "outputs": [],
   "source": [
    "import pickle\n",
    "import os\n",
    "import numpy as np\n",
    "import pandas as pd\n",
    "import torch\n",
    "import torch.nn as nn\n",
    "from tqdm import tqdm\n",
    "import seaborn as sns\n",
    "from transformers import GPT2Tokenizer, GPT2Config\n",
    "from LLMHeadModelWithFFNOutput import LLMHeadModelWithFFNOutput\n",
    "from matplotlib import pyplot as plt\n",
    "from sklearn.decomposition import NMF\n",
    "from sklearn.preprocessing import MinMaxScaler\n",
    "import copy"
   ]
  },
  {
   "cell_type": "code",
   "execution_count": 5,
   "metadata": {},
   "outputs": [
    {
     "name": "stdout",
     "output_type": "stream",
     "text": [
      "Device: cuda\n"
     ]
    }
   ],
   "source": [
    "# Configuración del modelo y el tokenizer\n",
    "tokenizer = GPT2Tokenizer.from_pretrained('gpt2')\n",
    "config = GPT2Config.from_pretrained('gpt2')\n",
    "num_layers = config.n_layer\n",
    "num_neurons = config.hidden_size * 4\n",
    "max_length = 19\n",
    "index_number = -3\n",
    "test_file = os.path.join('datasets', 'test_dataset.txt')\n",
    "folder = os.path.join('experiments', \"activations\")\n",
    "file = os.path.join(folder, \"gpt2.pickle\")\n",
    "model = LLMHeadModelWithFFNOutput.from_pretrained('gpt2-finetuned', config=config)\n",
    "model.eval()\n",
    "device = torch.device(\"cuda\" if torch.cuda.is_available() else \"cpu\")\n",
    "model.to(device)\n",
    "print(\"Device:\", device)"
   ]
  },
  {
   "cell_type": "code",
   "execution_count": 6,
   "metadata": {},
   "outputs": [],
   "source": [
    "with open(test_file, encoding=\"utf-8\") as file:\n",
    "    text = file.readlines()\n",
    "\n",
    "prompts = [t[:index_number].strip() for t in text]\n",
    "numbers = [t[index_number:].strip() for t in text]"
   ]
  },
  {
   "cell_type": "code",
   "execution_count": 7,
   "metadata": {},
   "outputs": [],
   "source": [
    "def get_accuracy(model, prompts: list, numbers: list, get_activations: bool = False) -> float:\n",
    "    accuracy = 0\n",
    "    activations = []\n",
    "    initial_shape = None\n",
    "    for prompt, number in zip(prompts, numbers):\n",
    "        input_ids = torch.tensor([tokenizer.encode(prompt)]).to(device)\n",
    "        outputs_tokens = model.generate(input_ids, max_length=max_length, pad_token_id=tokenizer.eos_token_id)\n",
    "        output_text = tokenizer.decode(outputs_tokens[0], skip_special_tokens=True)\n",
    "\n",
    "        output_text = output_text[index_number:].strip()\n",
    "\n",
    "        if output_text == number:\n",
    "            accuracy += 1\n",
    "\n",
    "        if get_activations:\n",
    "            \n",
    "            if initial_shape is None:\n",
    "                initial_shape = activation_ffn.shape\n",
    "\n",
    "            activation_ffn = model.get_activation_ffn()\n",
    "            if activation_ffn.shape == initial_shape:\n",
    "                activations.append(activation_ffn)\n",
    "\n",
    "    return accuracy * 100 / len(prompts), activations\n",
    "\n",
    "def get_activation_ffn(model, prompts: list) -> list:\n",
    "    activations = []\n",
    "    for prompt in tqdm(prompts, desc=\"Getting activations...\"):\n",
    "        input_ids = torch.tensor([tokenizer.encode(prompt)]).to(device)\n",
    "        _ = model.generate(input_ids, max_length=max_length, pad_token_id=tokenizer.eos_token_id)\n",
    "        activation_ffn = model.get_activation_ffn()\n",
    "        activations.append(activation_ffn)\n",
    "\n",
    "    activation_ffn_array = activations\n",
    "\n",
    "    return activation_ffn_array"
   ]
  },
  {
   "cell_type": "code",
   "execution_count": 8,
   "metadata": {},
   "outputs": [
    {
     "name": "stderr",
     "output_type": "stream",
     "text": [
      "c:\\code\\ExAI\\exai\\lib\\site-packages\\transformers\\generation\\utils.py:1363: UserWarning: Input length of input_ids is 19, but `max_length` is set to 19. This can lead to unexpected behavior. You should consider increasing `max_new_tokens`.\n",
      "  warnings.warn(\n"
     ]
    },
    {
     "name": "stdout",
     "output_type": "stream",
     "text": [
      "Accuracy: 25.4\n"
     ]
    }
   ],
   "source": [
    "acc, activations = get_accuracy(model, prompts, numbers)\n",
    "print(\"Accuracy:\", acc)"
   ]
  },
  {
   "cell_type": "code",
   "execution_count": 9,
   "metadata": {},
   "outputs": [
    {
     "ename": "ValueError",
     "evalue": "need at least one array to stack",
     "output_type": "error",
     "traceback": [
      "\u001b[1;31m---------------------------------------------------------------------------\u001b[0m",
      "\u001b[1;31mValueError\u001b[0m                                Traceback (most recent call last)",
      "Cell \u001b[1;32mIn[9], line 1\u001b[0m\n\u001b[1;32m----> 1\u001b[0m activation_ffn_array \u001b[38;5;241m=\u001b[39m \u001b[43mnp\u001b[49m\u001b[38;5;241;43m.\u001b[39;49m\u001b[43mstack\u001b[49m\u001b[43m(\u001b[49m\u001b[43mactivations\u001b[49m\u001b[43m)\u001b[49m\n",
      "File \u001b[1;32m<__array_function__ internals>:200\u001b[0m, in \u001b[0;36mstack\u001b[1;34m(*args, **kwargs)\u001b[0m\n",
      "File \u001b[1;32mc:\\code\\ExAI\\exai\\lib\\site-packages\\numpy\\core\\shape_base.py:460\u001b[0m, in \u001b[0;36mstack\u001b[1;34m(arrays, axis, out, dtype, casting)\u001b[0m\n\u001b[0;32m    458\u001b[0m arrays \u001b[38;5;241m=\u001b[39m [asanyarray(arr) \u001b[38;5;28;01mfor\u001b[39;00m arr \u001b[38;5;129;01min\u001b[39;00m arrays]\n\u001b[0;32m    459\u001b[0m \u001b[38;5;28;01mif\u001b[39;00m \u001b[38;5;129;01mnot\u001b[39;00m arrays:\n\u001b[1;32m--> 460\u001b[0m     \u001b[38;5;28;01mraise\u001b[39;00m \u001b[38;5;167;01mValueError\u001b[39;00m(\u001b[38;5;124m'\u001b[39m\u001b[38;5;124mneed at least one array to stack\u001b[39m\u001b[38;5;124m'\u001b[39m)\n\u001b[0;32m    462\u001b[0m shapes \u001b[38;5;241m=\u001b[39m {arr\u001b[38;5;241m.\u001b[39mshape \u001b[38;5;28;01mfor\u001b[39;00m arr \u001b[38;5;129;01min\u001b[39;00m arrays}\n\u001b[0;32m    463\u001b[0m \u001b[38;5;28;01mif\u001b[39;00m \u001b[38;5;28mlen\u001b[39m(shapes) \u001b[38;5;241m!=\u001b[39m \u001b[38;5;241m1\u001b[39m:\n",
      "\u001b[1;31mValueError\u001b[0m: need at least one array to stack"
     ]
    }
   ],
   "source": [
    "activation_ffn_array = np.stack(activations)"
   ]
  },
  {
   "cell_type": "code",
   "execution_count": 75,
   "metadata": {},
   "outputs": [
    {
     "name": "stdout",
     "output_type": "stream",
     "text": [
      "(714, 12, 1, 1, 3072)\n"
     ]
    }
   ],
   "source": [
    "print(activation_ffn_array.shape)"
   ]
  },
  {
   "cell_type": "code",
   "execution_count": 76,
   "metadata": {},
   "outputs": [
    {
     "name": "stdout",
     "output_type": "stream",
     "text": [
      "(12, 714, 3072)\n"
     ]
    }
   ],
   "source": [
    "# reshape\n",
    "activation_ffn_array = activation_ffn_array.reshape(num_layers, -1, num_neurons)\n",
    "print(activation_ffn_array.shape)"
   ]
  },
  {
   "cell_type": "code",
   "execution_count": 77,
   "metadata": {},
   "outputs": [],
   "source": [
    "# save\n",
    "with open(\"gpt2.pickle\", 'wb') as f:\n",
    "    pickle.dump(activation_ffn_array, f)"
   ]
  },
  {
   "cell_type": "markdown",
   "metadata": {},
   "source": [
    "## Prunning"
   ]
  },
  {
   "cell_type": "code",
   "execution_count": 78,
   "metadata": {},
   "outputs": [],
   "source": [
    "def get_high_activations_neuron_per_layer(activations: np.array, layer: int, threshold: float = 0.3, n_components: int = 10) -> tuple:\n",
    "    first_layer_activations = activations[layer]\n",
    "    \n",
    "    scaler = MinMaxScaler()\n",
    "    normalized_activations = scaler.fit_transform(first_layer_activations.reshape(-1, first_layer_activations.shape[-1])).reshape(first_layer_activations.shape)\n",
    "\n",
    "    nmf = NMF(n_components=n_components, max_iter=1000, random_state=0)\n",
    "    w = nmf.fit_transform(normalized_activations.reshape(-1, normalized_activations.shape[-1]))  # Aplana las activaciones para NMF\n",
    "    h = nmf.components_\n",
    "    \n",
    "    low_contribution_neurons = np.where(h.mean(axis=0) > threshold)[0]\n",
    "\n",
    "    return low_contribution_neurons, w, h\n",
    "\n",
    "class Conv1D(nn.Module):\n",
    "    \"\"\"\n",
    "    1D-convolutional layer as defined by Radford et al. for OpenAI GPT (and also used in GPT-2).\n",
    "\n",
    "    Basically works like a linear layer but the weights are transposed.\n",
    "\n",
    "    Args:\n",
    "        nf (`int`): The number of output features.\n",
    "        nx (`int`): The number of input features.\n",
    "    \"\"\"\n",
    "\n",
    "    def __init__(self, nf, nx):\n",
    "        super().__init__()\n",
    "        self.nf = nf\n",
    "        self.weight = nn.Parameter(torch.empty(nx, nf))\n",
    "        self.bias = nn.Parameter(torch.zeros(nf))\n",
    "        nn.init.normal_(self.weight, std=0.02)\n",
    "\n",
    "    def forward(self, x):\n",
    "        size_out = x.size()[:-1] + (self.nf,)\n",
    "        x = torch.addmm(self.bias, x.view(-1, x.size(-1)), self.weight)\n",
    "        x = x.view(size_out)\n",
    "        return x\n",
    "\n",
    "\n",
    "def prune_conv1d_layer(layer: Conv1D, index: torch.LongTensor, dim: int = 1) -> Conv1D:\n",
    "    \"\"\"\n",
    "    Prune a Conv1D layer to keep only entries in index. A Conv1D work as a Linear layer (see e.g. BERT) but the weights\n",
    "    are transposed.\n",
    "\n",
    "    Used to remove heads.\n",
    "\n",
    "    Args:\n",
    "        layer ([`~pytorch_utils.Conv1D`]): The layer to prune.\n",
    "        index (`torch.LongTensor`): The indices to keep in the layer.\n",
    "        dim (`int`, *optional*, defaults to 1): The dimension on which to keep the indices.\n",
    "\n",
    "    Returns:\n",
    "        [`~pytorch_utils.Conv1D`]: The pruned layer as a new layer with `requires_grad=True`.\n",
    "    \"\"\"\n",
    "    index = index.to(layer.weight.device)\n",
    "    W = layer.weight.index_select(dim, index).clone().detach()\n",
    "    if dim == 0:\n",
    "        b = layer.bias.clone().detach()\n",
    "    else:\n",
    "        b = layer.bias[index].clone().detach()\n",
    "    new_size = list(layer.weight.size())\n",
    "    new_size[dim] = len(index)\n",
    "    new_layer = Conv1D(new_size[1], new_size[0]).to(layer.weight.device)\n",
    "    new_layer.weight.requires_grad = False\n",
    "    new_layer.weight.copy_(W.contiguous())\n",
    "    new_layer.weight.requires_grad = True\n",
    "    new_layer.bias.requires_grad = False\n",
    "    new_layer.bias.copy_(b.contiguous())\n",
    "    new_layer.bias.requires_grad = True\n",
    "    return new_layer\n",
    "\n",
    "\n",
    "def plot_w_and_h_heatmaps(w: np.array, h: np.array, layer: int):\n",
    "    # Mapa de calor para W\n",
    "    plt.figure(figsize=(10, 8))\n",
    "    sns.heatmap(w, cmap='viridis')\n",
    "    plt.title('W Heatmap - Layer {}'.format(layer))\n",
    "    plt.xlabel('Components')\n",
    "    plt.ylabel('Tokens/Samples')\n",
    "    plt.show()\n",
    "\n",
    "    # Mapa de calor para H\n",
    "    plt.figure(figsize=(10, 8))\n",
    "    sns.heatmap(h, cmap='viridis')\n",
    "    plt.title('H Heatmap - Layer {}'.format(layer))\n",
    "    plt.xlabel('Neurons')\n",
    "    plt.ylabel('Components')\n",
    "    plt.show()"
   ]
  },
  {
   "cell_type": "code",
   "execution_count": 81,
   "metadata": {},
   "outputs": [
    {
     "name": "stdout",
     "output_type": "stream",
     "text": [
      "Number of neurons: 3072\n",
      "Layer: 0 Number of pruned neurons: 2420\n",
      "Layer: 1 Number of pruned neurons: 2631\n",
      "Layer: 2 Number of pruned neurons: 2649\n",
      "Layer: 3 Number of pruned neurons: 2289\n",
      "Layer: 4 Number of pruned neurons: 2807\n",
      "Layer: 5 Number of pruned neurons: 2371\n",
      "Layer: 6 Number of pruned neurons: 2366\n",
      "Layer: 7 Number of pruned neurons: 2247\n",
      "Layer: 8 Number of pruned neurons: 2061\n",
      "Layer: 9 Number of pruned neurons: 2804\n",
      "Layer: 10 Number of pruned neurons: 2194\n",
      "Layer: 11 Number of pruned neurons: 2603\n"
     ]
    }
   ],
   "source": [
    "print(\"Number of neurons:\", num_neurons)\n",
    "for i in range(num_layers):\n",
    "    high_contribution_neurons, w, h = get_high_activations_neuron_per_layer(activation_ffn_array, i, threshold=0.2, n_components=15)\n",
    "    print(\"Layer:\", i, \"Number of pruned neurons:\", activation_ffn_array.shape[-1] - len(high_contribution_neurons))\n",
    "    #plot_w_and_h_heatmaps(w, h, i) "
   ]
  },
  {
   "cell_type": "code",
   "execution_count": 102,
   "metadata": {},
   "outputs": [],
   "source": [
    "model_copy = copy.deepcopy(model)"
   ]
  },
  {
   "cell_type": "code",
   "execution_count": 103,
   "metadata": {},
   "outputs": [],
   "source": [
    "high_contribution_neurons_layer_11, w, h = get_high_activations_neuron_per_layer(activation_ffn_array, 11, threshold=0.2, n_components=15)"
   ]
  },
  {
   "cell_type": "code",
   "execution_count": 104,
   "metadata": {},
   "outputs": [
    {
     "name": "stdout",
     "output_type": "stream",
     "text": [
      "torch.Size([768, 3072])\n",
      "Conv1D()\n",
      "torch.Size([3072])\n",
      "torch.Size([768])\n"
     ]
    }
   ],
   "source": [
    "print(model_copy.transformer.h[11].mlp.c_fc.weight.shape)\n",
    "print(model_copy.transformer.h[11].mlp.c_proj)\n",
    "print(model_copy.transformer.h[11].mlp.c_fc.bias.shape)\n",
    "print(model_copy.transformer.h[11].mlp.c_proj.bias.shape)"
   ]
  },
  {
   "cell_type": "code",
   "execution_count": 105,
   "metadata": {},
   "outputs": [
    {
     "name": "stdout",
     "output_type": "stream",
     "text": [
      "torch.Size([768, 469])\n",
      "torch.Size([469, 768])\n"
     ]
    }
   ],
   "source": [
    "# pruning\n",
    "model_copy.transformer.h[11].mlp.c_fc = prune_conv1d_layer(model_copy.transformer.h[11].mlp.c_fc, torch.LongTensor(high_contribution_neurons_layer_11)) \n",
    "print(model_copy.transformer.h[11].mlp.c_fc.weight.shape)\n",
    "model_copy.transformer.h[11].mlp.c_proj = prune_conv1d_layer(model_copy.transformer.h[11].mlp.c_proj, torch.LongTensor(high_contribution_neurons_layer_11), dim=0)\n",
    "print(model_copy.transformer.h[11].mlp.c_proj.weight.shape)"
   ]
  },
  {
   "cell_type": "code",
   "execution_count": 106,
   "metadata": {},
   "outputs": [
    {
     "name": "stderr",
     "output_type": "stream",
     "text": [
      "Testing...: 13it [00:00, 30.04it/s]c:\\code\\ExAI\\exai\\lib\\site-packages\\transformers\\generation\\utils.py:1363: UserWarning: Input length of input_ids is 19, but `max_length` is set to 19. This can lead to unexpected behavior. You should consider increasing `max_new_tokens`.\n",
      "  warnings.warn(\n",
      "Testing...: 1000it [00:21, 47.15it/s]"
     ]
    },
    {
     "name": "stdout",
     "output_type": "stream",
     "text": [
      "Accuracy: 29.5\n"
     ]
    },
    {
     "name": "stderr",
     "output_type": "stream",
     "text": [
      "\n"
     ]
    }
   ],
   "source": [
    "acc, _ = get_accuracy(model_copy, prompts, numbers)\n",
    "print(\"Accuracy:\", acc)"
   ]
  },
  {
   "cell_type": "markdown",
   "metadata": {},
   "source": [
    "## experiment"
   ]
  },
  {
   "cell_type": "code",
   "execution_count": 115,
   "metadata": {},
   "outputs": [
    {
     "name": "stdout",
     "output_type": "stream",
     "text": [
      "3072\n"
     ]
    }
   ],
   "source": [
    "print(num_neurons)"
   ]
  },
  {
   "cell_type": "code",
   "execution_count": 121,
   "metadata": {},
   "outputs": [
    {
     "name": "stderr",
     "output_type": "stream",
     "text": [
      "c:\\code\\ExAI\\exai\\lib\\site-packages\\transformers\\generation\\utils.py:1363: UserWarning: Input length of input_ids is 19, but `max_length` is set to 19. This can lead to unexpected behavior. You should consider increasing `max_new_tokens`.\n",
      "  warnings.warn(\n",
      "c:\\code\\ExAI\\exai\\lib\\site-packages\\transformers\\generation\\utils.py:1363: UserWarning: Input length of input_ids is 19, but `max_length` is set to 19. This can lead to unexpected behavior. You should consider increasing `max_new_tokens`.\n",
      "  warnings.warn(\n",
      "c:\\code\\ExAI\\exai\\lib\\site-packages\\transformers\\generation\\utils.py:1363: UserWarning: Input length of input_ids is 19, but `max_length` is set to 19. This can lead to unexpected behavior. You should consider increasing `max_new_tokens`.\n",
      "  warnings.warn(\n",
      "c:\\code\\ExAI\\exai\\lib\\site-packages\\transformers\\generation\\utils.py:1363: UserWarning: Input length of input_ids is 19, but `max_length` is set to 19. This can lead to unexpected behavior. You should consider increasing `max_new_tokens`.\n",
      "  warnings.warn(\n",
      "c:\\code\\ExAI\\exai\\lib\\site-packages\\transformers\\generation\\utils.py:1363: UserWarning: Input length of input_ids is 19, but `max_length` is set to 19. This can lead to unexpected behavior. You should consider increasing `max_new_tokens`.\n",
      "  warnings.warn(\n"
     ]
    }
   ],
   "source": [
    "accuracis = []\n",
    "neurons_deleted = []\n",
    "n_components = 15\n",
    "layer = 11\n",
    "\n",
    "for threshold in np.arange(0.1, 1, 0.1):\n",
    "    high_neurons, W, H = get_high_activations_neuron_per_layer(activation_ffn_array, layer, threshold=threshold, n_components=n_components)\n",
    "    #print(f'Layer 11: {num_neurons - len(high_neurons)} low contribution neurons')\n",
    "    if num_neurons - len(high_neurons) > 3070:\n",
    "        break\n",
    "    model_copy = copy.deepcopy(model)\n",
    "    model_copy.transformer.h[layer].mlp.c_fc = prune_conv1d_layer(model_copy.transformer.h[layer].mlp.c_fc, torch.LongTensor(high_neurons)) \n",
    "    model_copy.transformer.h[layer].mlp.c_proj = prune_conv1d_layer(model_copy.transformer.h[layer].mlp.c_proj, torch.LongTensor(high_neurons), dim=0)\n",
    "    acc, _ = get_accuracy(model_copy, prompts, numbers)\n",
    "    accuracis.append(acc)\n",
    "    # calculated percentage of neurons deleted\n",
    "    percentage = (num_neurons - len(high_neurons)) / num_neurons * 100\n",
    "    neurons_deleted.append(percentage)"
   ]
  },
  {
   "cell_type": "code",
   "execution_count": 125,
   "metadata": {},
   "outputs": [
    {
     "name": "stdout",
     "output_type": "stream",
     "text": [
      "[29.2, 29.5, 29.5, 29.5, 29.4, 0]\n",
      "[23.697916666666664, 84.73307291666666, 97.265625, 99.31640625, 99.90234375, 99.9]\n"
     ]
    }
   ],
   "source": [
    "accuracis.append(0)\n",
    "print(accuracis)\n",
    "neurons_deleted.append(99.9)\n",
    "print(neurons_deleted)"
   ]
  },
  {
   "cell_type": "code",
   "execution_count": 126,
   "metadata": {},
   "outputs": [
    {
     "data": {
      "image/png": "[encoded data removed]",
      "text/plain": [
       "<Figure size 1000x800 with 1 Axes>"
      ]
     },
     "metadata": {},
     "output_type": "display_data"
    }
   ],
   "source": [
    "# plot results\n",
    "plt.figure(figsize=(10, 8))\n",
    "plt.plot(neurons_deleted, accuracis, 'o-')\n",
    "plt.title(f'Accuracy vs Neurons Deleted with NMF pruning in Layer 11 (n_components={n_components})')\n",
    "plt.xlabel('Neurons Deleted (%)')\n",
    "plt.ylabel('Accuracy (%)')\n",
    "# grid\n",
    "plt.grid(True)\n",
    "# y have to be between 0 and 100 with 10 step\n",
    "plt.yticks(np.arange(10, 40, 10))\n",
    "# x have to be between 0 and 100 with 10 step\n",
    "plt.xticks(np.arange(10, 110, 10))\n",
    "plt.show()"
   ]
  }
 ],
 "metadata": {
  "kernelspec": {
   "display_name": "exai",
   "language": "python",
   "name": "python3"
  },
  "language_info": {
   "codemirror_mode": {
    "name": "ipython",
    "version": 3
   },
   "file_extension": ".py",
   "mimetype": "text/x-python",
   "name": "python",
   "nbconvert_exporter": "python",
   "pygments_lexer": "ipython3",
   "version": "3.10.9"
  }
 },
 "nbformat": 4,
 "nbformat_minor": 2
}
