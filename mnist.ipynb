{
 "cells": [
  {
   "cell_type": "code",
   "execution_count": 54,
   "metadata": {},
   "outputs": [],
   "source": [
    "import os\n",
    "import torch\n",
    "from torch import nn\n",
    "from torch.nn import functional as F\n",
    "from torch.utils.data import DataLoader, random_split\n",
    "from torchvision import transforms\n",
    "from torchvision.datasets import MNIST\n",
    "import pytorch_lightning as pl\n",
    "import torchmetrics\n",
    "import pandas as pd\n",
    "from tqdm import tqdm"
   ]
  },
  {
   "cell_type": "code",
   "execution_count": 28,
   "metadata": {},
   "outputs": [
    {
     "name": "stderr",
     "output_type": "stream",
     "text": [
      "Seed set to 2024\n"
     ]
    },
    {
     "data": {
      "text/plain": [
       "2024"
      ]
     },
     "execution_count": 28,
     "metadata": {},
     "output_type": "execute_result"
    }
   ],
   "source": [
    "SEED = 2024\n",
    "pl.seed_everything(SEED)"
   ]
  },
  {
   "cell_type": "code",
   "execution_count": 29,
   "metadata": {},
   "outputs": [],
   "source": [
    "LEARING_RATE = 1e-3\n",
    "BATCH_SIZE = 64\n",
    "EPOCHS = 5\n",
    "DEVICE = 'cuda' if torch.cuda.is_available() else 'cpu'"
   ]
  },
  {
   "cell_type": "code",
   "execution_count": 30,
   "metadata": {},
   "outputs": [],
   "source": [
    "def load_data(batch_size=BATCH_SIZE, num_workers=4):\n",
    "    # Transformaciones para los datos\n",
    "    transform = transforms.ToTensor()\n",
    "\n",
    "    # Carga de datos de entrenamiento\n",
    "    mnist_train = MNIST(os.getcwd(), train=True, download=True, transform=transform)\n",
    "    \n",
    "    # División entre entrenamiento y validación\n",
    "    train_size = int(0.8 * len(mnist_train))\n",
    "    val_size = len(mnist_train) - train_size\n",
    "    mnist_train, mnist_val = random_split(mnist_train, [train_size, val_size])\n",
    "\n",
    "    # DataLoader para entrenamiento y validación\n",
    "    train_loader = DataLoader(mnist_train, batch_size=batch_size, num_workers=num_workers, shuffle=True, persistent_workers=True)\n",
    "    val_loader = DataLoader(mnist_val, batch_size=batch_size, num_workers=num_workers, shuffle=False, persistent_workers=True)\n",
    "\n",
    "    # Carga de datos de test\n",
    "    mnist_test = MNIST(os.getcwd(), train=False, download=True, transform=transform)\n",
    "    test_loader = DataLoader(mnist_test, batch_size=batch_size, num_workers=num_workers, persistent_workers=True)\n",
    "\n",
    "    return train_loader, val_loader, test_loader\n",
    "\n",
    "train_loader, val_loader, test_loader = load_data()"
   ]
  },
  {
   "cell_type": "code",
   "execution_count": 32,
   "metadata": {},
   "outputs": [],
   "source": [
    "\n",
    "class MNISTModel(pl.LightningModule):\n",
    "    def __init__(self, num_classes=10, lr=1e-3):\n",
    "        super(MNISTModel, self).__init__()\n",
    "        self.layer_1 = nn.Linear(28 * 28, 128)\n",
    "        self.layer_2 = nn.Linear(128, 256)\n",
    "        self.layer_3 = nn.Linear(256, 10)\n",
    "        self.lr = lr\n",
    "        self.num_classes = num_classes\n",
    "        \n",
    "        # metrics\n",
    "        self.train_acc = torchmetrics.Accuracy(num_classes=self.num_classes, task='multiclass')\n",
    "        self.val_acc = torchmetrics.Accuracy(num_classes=self.num_classes, task='multiclass')\n",
    "        self.test_acc = torchmetrics.Accuracy(num_classes=self.num_classes, task='multiclass')\n",
    "        self.precision = torchmetrics.Precision(num_classes=self.num_classes, average='macro', task='multiclass')\n",
    "        self.recall = torchmetrics.Recall(num_classes=self.num_classes, average='macro', task='multiclass')\n",
    "        self.f1 = torchmetrics.F1Score(num_classes=self.num_classes, average='macro', task='multiclass')\n",
    "\n",
    "    def forward(self, x, record_activations=False):\n",
    "        x = x.view(x.size(0), -1)\n",
    "        x = self.layer_1(x)\n",
    "        x_layer1 = F.relu(x)\n",
    "\n",
    "        x = self.layer_2(x_layer1)\n",
    "        x_layer2 = F.relu(x)\n",
    "\n",
    "        x = self.layer_3(x_layer2)\n",
    "        x_layer3 = F.log_softmax(x, dim=1)\n",
    "\n",
    "        if record_activations:\n",
    "            return x_layer3, [x_layer1, x_layer2, x_layer3]\n",
    "\n",
    "        return x_layer3\n",
    "    \n",
    "    def training_step(self, batch, batch_idx):\n",
    "        x, y = batch\n",
    "        logits = self(x)\n",
    "        loss = F.nll_loss(logits, y)\n",
    "        self.log('train_loss', loss, prog_bar=True)\n",
    "        self.log('train_acc', self.train_acc(logits, y), prog_bar=True)\n",
    "        return loss\n",
    "\n",
    "    def validation_step(self, batch, batch_idx):\n",
    "        x, y = batch\n",
    "        logits = self(x)\n",
    "        loss = F.nll_loss(logits, y)\n",
    "        self.log('val_loss', loss, prog_bar=True)\n",
    "        self.log('val_acc', self.val_acc(logits, y), prog_bar=True)\n",
    "\n",
    "    def test_step(self, batch, batch_idx):\n",
    "        x, y = batch\n",
    "        logits = self(x)\n",
    "        loss = F.nll_loss(logits, y)\n",
    "        self.log('test_loss', loss, prog_bar=True)\n",
    "        self.log('test_acc', self.test_acc(logits, y), prog_bar=True)\n",
    "        self.log('precision', self.precision(logits, y), prog_bar=True)\n",
    "        self.log('recall', self.recall(logits, y), prog_bar=True)\n",
    "        self.log('f1', self.f1(logits, y), prog_bar=True)\n",
    "    \n",
    "    def configure_optimizers(self):\n",
    "        return torch.optim.Adam(self.parameters(), lr=self.lr)\n",
    "    \n",
    "model = MNISTModel(lr=LEARING_RATE)"
   ]
  },
  {
   "cell_type": "markdown",
   "metadata": {},
   "source": [
    "## Train"
   ]
  },
  {
   "cell_type": "code",
   "execution_count": 33,
   "metadata": {},
   "outputs": [
    {
     "name": "stderr",
     "output_type": "stream",
     "text": [
      "GPU available: True (cuda), used: True\n",
      "TPU available: False, using: 0 TPU cores\n",
      "IPU available: False, using: 0 IPUs\n",
      "HPU available: False, using: 0 HPUs\n",
      "LOCAL_RANK: 0 - CUDA_VISIBLE_DEVICES: [0]\n",
      "\n",
      "  | Name      | Type                | Params\n",
      "--------------------------------------------------\n",
      "0 | layer_1   | Linear              | 100 K \n",
      "1 | layer_2   | Linear              | 33.0 K\n",
      "2 | layer_3   | Linear              | 2.6 K \n",
      "3 | train_acc | MulticlassAccuracy  | 0     \n",
      "4 | val_acc   | MulticlassAccuracy  | 0     \n",
      "5 | test_acc  | MulticlassAccuracy  | 0     \n",
      "6 | precision | MulticlassPrecision | 0     \n",
      "7 | recall    | MulticlassRecall    | 0     \n",
      "8 | f1        | MulticlassF1Score   | 0     \n",
      "--------------------------------------------------\n",
      "136 K     Trainable params\n",
      "0         Non-trainable params\n",
      "136 K     Total params\n",
      "0.544     Total estimated model params size (MB)\n"
     ]
    },
    {
     "name": "stdout",
     "output_type": "stream",
     "text": [
      "Epoch 4: 100%|██████████| 750/750 [00:03<00:00, 232.33it/s, v_num=8, train_loss=0.040, train_acc=0.984, val_loss=0.0966, val_acc=0.972] "
     ]
    },
    {
     "name": "stderr",
     "output_type": "stream",
     "text": [
      "`Trainer.fit` stopped: `max_epochs=5` reached.\n"
     ]
    },
    {
     "name": "stdout",
     "output_type": "stream",
     "text": [
      "Epoch 4: 100%|██████████| 750/750 [00:03<00:00, 231.76it/s, v_num=8, train_loss=0.040, train_acc=0.984, val_loss=0.0966, val_acc=0.972]\n"
     ]
    }
   ],
   "source": [
    "trainer = pl.Trainer(max_epochs=EPOCHS)\n",
    "trainer.fit(model, train_loader, val_loader)"
   ]
  },
  {
   "cell_type": "code",
   "execution_count": 34,
   "metadata": {},
   "outputs": [
    {
     "name": "stderr",
     "output_type": "stream",
     "text": [
      "LOCAL_RANK: 0 - CUDA_VISIBLE_DEVICES: [0]\n"
     ]
    },
    {
     "name": "stdout",
     "output_type": "stream",
     "text": [
      "Testing DataLoader 0: 100%|██████████| 157/157 [00:00<00:00, 211.19it/s]\n",
      "────────────────────────────────────────────────────────────────────────────────────────────────────────────────────────\n",
      "       Test metric             DataLoader 0\n",
      "────────────────────────────────────────────────────────────────────────────────────────────────────────────────────────\n",
      "           f1               0.9711270332336426\n",
      "        precision           0.9746068120002747\n",
      "         recall             0.9731449484825134\n",
      "        test_acc            0.9749000072479248\n",
      "        test_loss            0.086024709045887\n",
      "────────────────────────────────────────────────────────────────────────────────────────────────────────────────────────\n"
     ]
    },
    {
     "data": {
      "text/plain": [
       "[{'test_loss': 0.086024709045887,\n",
       "  'test_acc': 0.9749000072479248,\n",
       "  'precision': 0.9746068120002747,\n",
       "  'recall': 0.9731449484825134,\n",
       "  'f1': 0.9711270332336426}]"
      ]
     },
     "execution_count": 34,
     "metadata": {},
     "output_type": "execute_result"
    }
   ],
   "source": [
    "trainer.test(model, test_loader)"
   ]
  },
  {
   "cell_type": "markdown",
   "metadata": {},
   "source": [
    "## Activations"
   ]
  },
  {
   "cell_type": "code",
   "execution_count": 35,
   "metadata": {},
   "outputs": [],
   "source": [
    "def load_data_for_activations():\n",
    "    # load only one image of the test set\n",
    "    transform = transforms.ToTensor()\n",
    "    mnist_test = MNIST(os.getcwd(), train=False, download=True, transform=transform)\n",
    "    test_loader = DataLoader(mnist_test, batch_size=1, shuffle=False)\n",
    "    return test_loader\n",
    "\n",
    "test_loader_act = load_data_for_activations()"
   ]
  },
  {
   "cell_type": "code",
   "execution_count": 36,
   "metadata": {},
   "outputs": [
    {
     "data": {
      "text/plain": [
       "MNISTModel(\n",
       "  (layer_1): Linear(in_features=784, out_features=128, bias=True)\n",
       "  (layer_2): Linear(in_features=128, out_features=256, bias=True)\n",
       "  (layer_3): Linear(in_features=256, out_features=10, bias=True)\n",
       "  (train_acc): MulticlassAccuracy()\n",
       "  (val_acc): MulticlassAccuracy()\n",
       "  (test_acc): MulticlassAccuracy()\n",
       "  (precision): MulticlassPrecision()\n",
       "  (recall): MulticlassRecall()\n",
       "  (f1): MulticlassF1Score()\n",
       ")"
      ]
     },
     "execution_count": 36,
     "metadata": {},
     "output_type": "execute_result"
    }
   ],
   "source": [
    "model_for_act = MNISTModel.load_from_checkpoint('lightning_logs/version_8/checkpoints/epoch=4-step=3750.ckpt')\n",
    "model_for_act.eval()"
   ]
  },
  {
   "cell_type": "code",
   "execution_count": 55,
   "metadata": {},
   "outputs": [
    {
     "name": "stderr",
     "output_type": "stream",
     "text": [
      "Running activations: 100%|██████████| 10000/10000 [00:11<00:00, 902.99it/s]\n"
     ]
    }
   ],
   "source": [
    "df = pd.DataFrame(columns=['Number', 'Layer 1', 'Layer 2', 'Layer 3'])\n",
    "for batch in tqdm(test_loader_act, desc='Running activations'):\n",
    "    x, y = batch\n",
    "    x = x.to(DEVICE)\n",
    "    _, r = model_for_act(x, record_activations=True)\n",
    "    row = {'Number': y.item(), 'Layer 1': r[0].cpu().detach().numpy(), 'Layer 2': r[1].cpu().detach().numpy(), 'Layer 3': r[2].cpu().detach().numpy()}\n",
    "    df.loc[len(df)] = row"
   ]
  },
  {
   "cell_type": "code",
   "execution_count": 56,
   "metadata": {},
   "outputs": [
    {
     "data": {
      "text/html": [
       "<div>\n",
       "<style scoped>\n",
       "    .dataframe tbody tr th:only-of-type {\n",
       "        vertical-align: middle;\n",
       "    }\n",
       "\n",
       "    .dataframe tbody tr th {\n",
       "        vertical-align: top;\n",
       "    }\n",
       "\n",
       "    .dataframe thead th {\n",
       "        text-align: right;\n",
       "    }\n",
       "</style>\n",
       "<table border=\"1\" class=\"dataframe\">\n",
       "  <thead>\n",
       "    <tr style=\"text-align: right;\">\n",
       "      <th></th>\n",
       "      <th>Number</th>\n",
       "      <th>Layer 1</th>\n",
       "      <th>Layer 2</th>\n",
       "      <th>Layer 3</th>\n",
       "    </tr>\n",
       "  </thead>\n",
       "  <tbody>\n",
       "    <tr>\n",
       "      <th>0</th>\n",
       "      <td>7</td>\n",
       "      <td>[[0.4021675, 0.0, 0.0, 0.17226669, 0.0, 0.0, 0...</td>\n",
       "      <td>[[0.86871254, 0.24626496, 2.14166, 1.0335073, ...</td>\n",
       "      <td>[[-16.708138, -15.080975, -10.517571, -12.7543...</td>\n",
       "    </tr>\n",
       "    <tr>\n",
       "      <th>1</th>\n",
       "      <td>2</td>\n",
       "      <td>[[1.2451289, 0.0, 3.4739122, 2.4116392, 1.1928...</td>\n",
       "      <td>[[0.0, 0.294271, 0.0, 4.9220953, 0.0, 0.0, 2.1...</td>\n",
       "      <td>[[-19.028486, -11.932887, -5.2569914e-05, -10....</td>\n",
       "    </tr>\n",
       "    <tr>\n",
       "      <th>2</th>\n",
       "      <td>1</td>\n",
       "      <td>[[0.784067, 0.0, 0.41940135, 1.1673068, 0.0, 0...</td>\n",
       "      <td>[[0.0, 0.0, 0.0, 1.7142372, 0.0, 1.0349343, 0....</td>\n",
       "      <td>[[-12.076187, -0.0011462554, -8.229529, -12.27...</td>\n",
       "    </tr>\n",
       "    <tr>\n",
       "      <th>3</th>\n",
       "      <td>0</td>\n",
       "      <td>[[0.0, 0.0, 0.23350655, 0.0, 1.3085879, 0.8529...</td>\n",
       "      <td>[[0.69394875, 2.487968, 0.39706898, 0.0, 0.0, ...</td>\n",
       "      <td>[[-1.180165e-05, -19.415659, -11.505971, -20.6...</td>\n",
       "    </tr>\n",
       "    <tr>\n",
       "      <th>4</th>\n",
       "      <td>4</td>\n",
       "      <td>[[0.0, 0.87694776, 0.9655731, 0.0, 0.0, 0.0, 0...</td>\n",
       "      <td>[[0.0, 0.0, 0.33645225, 0.0, 0.0, 0.51041484, ...</td>\n",
       "      <td>[[-13.942757, -17.600641, -15.314047, -20.6317...</td>\n",
       "    </tr>\n",
       "  </tbody>\n",
       "</table>\n",
       "</div>"
      ],
      "text/plain": [
       "   Number                                            Layer 1  \\\n",
       "0       7  [[0.4021675, 0.0, 0.0, 0.17226669, 0.0, 0.0, 0...   \n",
       "1       2  [[1.2451289, 0.0, 3.4739122, 2.4116392, 1.1928...   \n",
       "2       1  [[0.784067, 0.0, 0.41940135, 1.1673068, 0.0, 0...   \n",
       "3       0  [[0.0, 0.0, 0.23350655, 0.0, 1.3085879, 0.8529...   \n",
       "4       4  [[0.0, 0.87694776, 0.9655731, 0.0, 0.0, 0.0, 0...   \n",
       "\n",
       "                                             Layer 2  \\\n",
       "0  [[0.86871254, 0.24626496, 2.14166, 1.0335073, ...   \n",
       "1  [[0.0, 0.294271, 0.0, 4.9220953, 0.0, 0.0, 2.1...   \n",
       "2  [[0.0, 0.0, 0.0, 1.7142372, 0.0, 1.0349343, 0....   \n",
       "3  [[0.69394875, 2.487968, 0.39706898, 0.0, 0.0, ...   \n",
       "4  [[0.0, 0.0, 0.33645225, 0.0, 0.0, 0.51041484, ...   \n",
       "\n",
       "                                             Layer 3  \n",
       "0  [[-16.708138, -15.080975, -10.517571, -12.7543...  \n",
       "1  [[-19.028486, -11.932887, -5.2569914e-05, -10....  \n",
       "2  [[-12.076187, -0.0011462554, -8.229529, -12.27...  \n",
       "3  [[-1.180165e-05, -19.415659, -11.505971, -20.6...  \n",
       "4  [[-13.942757, -17.600641, -15.314047, -20.6317...  "
      ]
     },
     "execution_count": 56,
     "metadata": {},
     "output_type": "execute_result"
    }
   ],
   "source": [
    "df.head()"
   ]
  },
  {
   "cell_type": "code",
   "execution_count": null,
   "metadata": {},
   "outputs": [],
   "source": [
    "df.to_pickle('activations.pkl')"
   ]
  }
 ],
 "metadata": {
  "language_info": {
   "name": "python"
  }
 },
 "nbformat": 4,
 "nbformat_minor": 2
}
